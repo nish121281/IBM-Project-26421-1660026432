{
  "cells": [
    {
      "cell_type": "markdown",
      "metadata": {
        "id": "29ed0910"
      },
      "source": [
        "# IMAGE AUGMENTATION"
      ],
      "id": "29ed0910"
    },
    {
      "cell_type": "code",
      "execution_count": null,
      "metadata": {
        "id": "b554fc31"
      },
      "outputs": [],
      "source": [
        "from tensorflow.keras.preprocessing.image import ImageDataGenerator\n",
        "from PIL import Image\n",
        "import scipy"
      ],
      "id": "b554fc31"
    },
    {
      "cell_type": "code",
      "execution_count": null,
      "metadata": {
        "colab": {
          "base_uri": "https://localhost:8080/",
          "height": 166
        },
        "id": "aJL2OrdXcOYS",
        "outputId": "888c96c6-9ce4-4fca-8566-eb33e07d9d14"
      },
      "outputs": [
        {
          "ename": "FileNotFoundError",
          "evalue": "ignored",
          "output_type": "error",
          "traceback": [
            "\u001b[0;31m---------------------------------------------------------------------------\u001b[0m",
            "\u001b[0;31mFileNotFoundError\u001b[0m                         Traceback (most recent call last)",
            "\u001b[0;32m<ipython-input-24-b273e77f7d22>\u001b[0m in \u001b[0;36m<module>\u001b[0;34m\u001b[0m\n\u001b[0;32m----> 1\u001b[0;31m \u001b[0mdata\u001b[0m \u001b[0;34m=\u001b[0m \u001b[0mopen\u001b[0m\u001b[0;34m(\u001b[0m\u001b[0;34mr\"C:\\Users\\splpt649\\Downloads\\IBM\\Assignments\\flowers\"\u001b[0m\u001b[0;34m)\u001b[0m\u001b[0;34m\u001b[0m\u001b[0;34m\u001b[0m\u001b[0m\n\u001b[0m",
            "\u001b[0;31mFileNotFoundError\u001b[0m: [Errno 2] No such file or directory: 'C:\\\\Users\\\\splpt649\\\\Downloads\\\\IBM\\\\Assignments\\\\flowers'"
          ]
        }
      ],
      "source": [
        "data = open(r\"C:\\Users\\splpt649\\Downloads\\IBM\\Assignments\\flowers\")"
      ],
      "id": "aJL2OrdXcOYS"
    },
    {
      "cell_type": "code",
      "execution_count": null,
      "metadata": {
        "id": "10eb80b8"
      },
      "outputs": [],
      "source": [
        "train_datagen=ImageDataGenerator(rescale=1./255, zoom_range=0.2,horizontal_flip=True,vertical_flip=False)"
      ],
      "id": "10eb80b8"
    },
    {
      "cell_type": "code",
      "execution_count": null,
      "metadata": {
        "id": "374e4a9e"
      },
      "outputs": [],
      "source": [
        "test_datagen=ImageDataGenerator(rescale=1./255)"
      ],
      "id": "374e4a9e"
    },
    {
      "cell_type": "code",
      "execution_count": null,
      "metadata": {
        "colab": {
          "base_uri": "https://localhost:8080/"
        },
        "id": "4a5aa1ea",
        "outputId": "095bfca2-2142-41b3-bee2-79e318133b14"
      },
      "outputs": [
        {
          "output_type": "stream",
          "name": "stdout",
          "text": [
            "Found 4317 images belonging to 5 classes.\n"
          ]
        }
      ],
      "source": [
        "x_train=train_datagen.flow_from_directory('/content/gdrive/MyDrive/data/flowers',target_size=(64,64),class_mode='categorical',batch_size=24)"
      ],
      "id": "4a5aa1ea"
    },
    {
      "cell_type": "code",
      "execution_count": null,
      "metadata": {
        "colab": {
          "base_uri": "https://localhost:8080/"
        },
        "id": "bce84929",
        "outputId": "04a74678-c612-44eb-e1d9-653d1de69e90"
      },
      "outputs": [
        {
          "output_type": "stream",
          "name": "stdout",
          "text": [
            "Found 4317 images belonging to 5 classes.\n"
          ]
        }
      ],
      "source": [
        "x_test=test_datagen.flow_from_directory('/content/gdrive/MyDrive/data/flowers',target_size=(64,64),class_mode='categorical',batch_size=24)"
      ],
      "id": "bce84929"
    },
    {
      "cell_type": "code",
      "execution_count": null,
      "metadata": {
        "id": "3b54ca51",
        "outputId": "c70c4b09-d345-4a49-f38e-2352deb754c8",
        "colab": {
          "base_uri": "https://localhost:8080/"
        }
      },
      "outputs": [
        {
          "output_type": "execute_result",
          "data": {
            "text/plain": [
              "{'daisy': 0, 'dandelion': 1, 'rose': 2, 'sunflower': 3, 'tulip': 4}"
            ]
          },
          "metadata": {},
          "execution_count": 65
        }
      ],
      "source": [
        "x_train.class_indices"
      ],
      "id": "3b54ca51"
    },
    {
      "cell_type": "markdown",
      "metadata": {
        "id": "2fe3ef33"
      },
      "source": [
        "# INITIALIZING CNN AND CREATE MODEL"
      ],
      "id": "2fe3ef33"
    },
    {
      "cell_type": "code",
      "execution_count": null,
      "metadata": {
        "id": "c210939f"
      },
      "outputs": [],
      "source": [
        "from tensorflow.keras.models import Sequential\n",
        "from tensorflow.keras.layers import Dense,Convolution2D,MaxPooling2D,Flatten"
      ],
      "id": "c210939f"
    },
    {
      "cell_type": "markdown",
      "metadata": {
        "id": "5af4542c"
      },
      "source": [
        "# ADD LAYERS"
      ],
      "id": "5af4542c"
    },
    {
      "cell_type": "code",
      "execution_count": null,
      "metadata": {
        "id": "1a5cb552"
      },
      "outputs": [],
      "source": [
        "model=Sequential()"
      ],
      "id": "1a5cb552"
    },
    {
      "cell_type": "markdown",
      "metadata": {
        "id": "c4db46d2"
      },
      "source": [
        "# INPUT LAYERS (CONVOLUTION ,MAXPOOLING,FLATTEN)"
      ],
      "id": "c4db46d2"
    },
    {
      "cell_type": "code",
      "execution_count": null,
      "metadata": {
        "id": "22d7fc9c"
      },
      "outputs": [],
      "source": [
        "model.add(Convolution2D(32,(3,3),input_shape=(64,64,3),activation='relu'))"
      ],
      "id": "22d7fc9c"
    },
    {
      "cell_type": "code",
      "execution_count": null,
      "metadata": {
        "id": "82953fc9"
      },
      "outputs": [],
      "source": [
        "model.add(MaxPooling2D(pool_size=(2,2)))"
      ],
      "id": "82953fc9"
    },
    {
      "cell_type": "code",
      "execution_count": null,
      "metadata": {
        "id": "c9234a07"
      },
      "outputs": [],
      "source": [
        "model.add(Flatten())"
      ],
      "id": "c9234a07"
    },
    {
      "cell_type": "code",
      "execution_count": null,
      "metadata": {
        "colab": {
          "base_uri": "https://localhost:8080/"
        },
        "id": "293bceb3",
        "outputId": "528513e6-1c14-40c1-d376-835674ceee60"
      },
      "outputs": [
        {
          "output_type": "stream",
          "name": "stdout",
          "text": [
            "Model: \"sequential_2\"\n",
            "_________________________________________________________________\n",
            " Layer (type)                Output Shape              Param #   \n",
            "=================================================================\n",
            " conv2d_2 (Conv2D)           (None, 62, 62, 32)        896       \n",
            "                                                                 \n",
            " max_pooling2d_2 (MaxPooling  (None, 31, 31, 32)       0         \n",
            " 2D)                                                             \n",
            "                                                                 \n",
            " flatten_2 (Flatten)         (None, 30752)             0         \n",
            "                                                                 \n",
            "=================================================================\n",
            "Total params: 896\n",
            "Trainable params: 896\n",
            "Non-trainable params: 0\n",
            "_________________________________________________________________\n"
          ]
        }
      ],
      "source": [
        "model.summary()"
      ],
      "id": "293bceb3"
    },
    {
      "cell_type": "markdown",
      "metadata": {
        "id": "acbea21f"
      },
      "source": [
        "# HIDDEN LAYERS"
      ],
      "id": "acbea21f"
    },
    {
      "cell_type": "code",
      "execution_count": null,
      "metadata": {
        "id": "0865157e"
      },
      "outputs": [],
      "source": [
        "model.add(Dense(300,activation='relu'))\n",
        "model.add(Dense(150,activation='relu'))"
      ],
      "id": "0865157e"
    },
    {
      "cell_type": "markdown",
      "metadata": {
        "id": "73fcd848"
      },
      "source": [
        "# OUTPUT LAYERS"
      ],
      "id": "73fcd848"
    },
    {
      "cell_type": "code",
      "execution_count": null,
      "metadata": {
        "id": "f0d35dd5"
      },
      "outputs": [],
      "source": [
        "model.add(Dense(5,activation='softmax'))"
      ],
      "id": "f0d35dd5"
    },
    {
      "cell_type": "code",
      "execution_count": null,
      "metadata": {
        "id": "3d17952c"
      },
      "outputs": [],
      "source": [
        "model.compile(loss='categorical_crossentropy',optimizer='adam',metrics=['accuracy'])"
      ],
      "id": "3d17952c"
    },
    {
      "cell_type": "code",
      "execution_count": null,
      "metadata": {
        "colab": {
          "base_uri": "https://localhost:8080/"
        },
        "id": "71d482fd",
        "outputId": "0efa8761-5ac0-465a-f3e1-8c439251086c"
      },
      "outputs": [
        {
          "output_type": "execute_result",
          "data": {
            "text/plain": [
              "180"
            ]
          },
          "metadata": {},
          "execution_count": 75
        }
      ],
      "source": [
        "len(x_train)"
      ],
      "id": "71d482fd"
    },
    {
      "cell_type": "markdown",
      "metadata": {
        "id": "aef8286a"
      },
      "source": [
        "# TRAIN THE MODEL"
      ],
      "id": "aef8286a"
    },
    {
      "cell_type": "code",
      "execution_count": 82,
      "metadata": {
        "colab": {
          "base_uri": "https://localhost:8080/"
        },
        "id": "259b9946",
        "outputId": "0ffaea12-8e24-4e88-ffa5-6acfc23b188d"
      },
      "outputs": [
        {
          "output_type": "stream",
          "name": "stdout",
          "text": [
            "Epoch 1/30\n",
            "180/180 [==============================] - 60s 333ms/step - loss: 1.2842 - accuracy: 0.4820 - val_loss: 1.0587 - val_accuracy: 0.5874\n",
            "Epoch 2/30\n",
            "180/180 [==============================] - 56s 312ms/step - loss: 1.0118 - accuracy: 0.6053 - val_loss: 0.9413 - val_accuracy: 0.6359\n",
            "Epoch 3/30\n",
            "180/180 [==============================] - 56s 309ms/step - loss: 0.9212 - accuracy: 0.6484 - val_loss: 0.8523 - val_accuracy: 0.6799\n",
            "Epoch 4/30\n",
            "180/180 [==============================] - 56s 310ms/step - loss: 0.8636 - accuracy: 0.6681 - val_loss: 0.8199 - val_accuracy: 0.6970\n",
            "Epoch 5/30\n",
            "180/180 [==============================] - 56s 314ms/step - loss: 0.8132 - accuracy: 0.6880 - val_loss: 0.8219 - val_accuracy: 0.6833\n",
            "Epoch 6/30\n",
            "180/180 [==============================] - 57s 316ms/step - loss: 0.7598 - accuracy: 0.7123 - val_loss: 0.6593 - val_accuracy: 0.7508\n",
            "Epoch 7/30\n",
            "180/180 [==============================] - 57s 314ms/step - loss: 0.7144 - accuracy: 0.7308 - val_loss: 0.6036 - val_accuracy: 0.7860\n",
            "Epoch 8/30\n",
            "180/180 [==============================] - 57s 317ms/step - loss: 0.6601 - accuracy: 0.7524 - val_loss: 0.5974 - val_accuracy: 0.7818\n",
            "Epoch 9/30\n",
            "180/180 [==============================] - 58s 322ms/step - loss: 0.6113 - accuracy: 0.7670 - val_loss: 0.5077 - val_accuracy: 0.8121\n",
            "Epoch 10/30\n",
            "180/180 [==============================] - 56s 313ms/step - loss: 0.5858 - accuracy: 0.7732 - val_loss: 0.4638 - val_accuracy: 0.8265\n",
            "Epoch 11/30\n",
            "180/180 [==============================] - 58s 320ms/step - loss: 0.5394 - accuracy: 0.8015 - val_loss: 0.5075 - val_accuracy: 0.8091\n",
            "Epoch 12/30\n",
            "180/180 [==============================] - 57s 317ms/step - loss: 0.5122 - accuracy: 0.8161 - val_loss: 0.4398 - val_accuracy: 0.8439\n",
            "Epoch 13/30\n",
            "180/180 [==============================] - 57s 317ms/step - loss: 0.4599 - accuracy: 0.8288 - val_loss: 0.3597 - val_accuracy: 0.8673\n",
            "Epoch 14/30\n",
            "180/180 [==============================] - 58s 320ms/step - loss: 0.4313 - accuracy: 0.8397 - val_loss: 0.3436 - val_accuracy: 0.8821\n",
            "Epoch 15/30\n",
            "180/180 [==============================] - 57s 314ms/step - loss: 0.3976 - accuracy: 0.8511 - val_loss: 0.3013 - val_accuracy: 0.8902\n",
            "Epoch 16/30\n",
            "180/180 [==============================] - 58s 322ms/step - loss: 0.3597 - accuracy: 0.8712 - val_loss: 0.3424 - val_accuracy: 0.8800\n",
            "Epoch 17/30\n",
            "180/180 [==============================] - 58s 320ms/step - loss: 0.3686 - accuracy: 0.8677 - val_loss: 0.2294 - val_accuracy: 0.9212\n",
            "Epoch 18/30\n",
            "180/180 [==============================] - 57s 316ms/step - loss: 0.3447 - accuracy: 0.8779 - val_loss: 0.2396 - val_accuracy: 0.9199\n",
            "Epoch 19/30\n",
            "180/180 [==============================] - 56s 313ms/step - loss: 0.3160 - accuracy: 0.8874 - val_loss: 0.3309 - val_accuracy: 0.8842\n",
            "Epoch 20/30\n",
            "180/180 [==============================] - 56s 313ms/step - loss: 0.2834 - accuracy: 0.9002 - val_loss: 0.3286 - val_accuracy: 0.8895\n",
            "Epoch 21/30\n",
            "180/180 [==============================] - 57s 316ms/step - loss: 0.2774 - accuracy: 0.9002 - val_loss: 0.2185 - val_accuracy: 0.9263\n",
            "Epoch 22/30\n",
            "180/180 [==============================] - 56s 314ms/step - loss: 0.2490 - accuracy: 0.9141 - val_loss: 0.2139 - val_accuracy: 0.9240\n",
            "Epoch 23/30\n",
            "180/180 [==============================] - 57s 315ms/step - loss: 0.2527 - accuracy: 0.9106 - val_loss: 0.2241 - val_accuracy: 0.9210\n",
            "Epoch 24/30\n",
            "180/180 [==============================] - 56s 311ms/step - loss: 0.2114 - accuracy: 0.9280 - val_loss: 0.1405 - val_accuracy: 0.9555\n",
            "Epoch 25/30\n",
            "180/180 [==============================] - 56s 312ms/step - loss: 0.2171 - accuracy: 0.9287 - val_loss: 0.1293 - val_accuracy: 0.9576\n",
            "Epoch 26/30\n",
            "180/180 [==============================] - 57s 317ms/step - loss: 0.1974 - accuracy: 0.9312 - val_loss: 0.1239 - val_accuracy: 0.9578\n",
            "Epoch 27/30\n",
            "180/180 [==============================] - 56s 312ms/step - loss: 0.1755 - accuracy: 0.9402 - val_loss: 0.1108 - val_accuracy: 0.9592\n",
            "Epoch 28/30\n",
            "180/180 [==============================] - 56s 314ms/step - loss: 0.1962 - accuracy: 0.9317 - val_loss: 0.1885 - val_accuracy: 0.9349\n",
            "Epoch 29/30\n",
            "180/180 [==============================] - 56s 310ms/step - loss: 0.1799 - accuracy: 0.9398 - val_loss: 0.1170 - val_accuracy: 0.9590\n",
            "Epoch 30/30\n",
            "180/180 [==============================] - 56s 314ms/step - loss: 0.1556 - accuracy: 0.9463 - val_loss: 0.1517 - val_accuracy: 0.9497\n"
          ]
        },
        {
          "output_type": "execute_result",
          "data": {
            "text/plain": [
              "<keras.callbacks.History at 0x7fcb343537d0>"
            ]
          },
          "metadata": {},
          "execution_count": 82
        }
      ],
      "source": [
        "model.fit(x_train,steps_per_epoch=len(x_train), validation_data=x_test, validation_steps=len(x_test), epochs= 30)"
      ],
      "id": "259b9946"
    },
    {
      "cell_type": "markdown",
      "metadata": {
        "id": "fdd1c55c"
      },
      "source": [
        "# SAVE THE MODEL"
      ],
      "id": "fdd1c55c"
    },
    {
      "cell_type": "code",
      "execution_count": 83,
      "metadata": {
        "id": "cf56669a"
      },
      "outputs": [],
      "source": [
        "model.save('Flowers_classification_model1.h5')"
      ],
      "id": "cf56669a"
    },
    {
      "cell_type": "markdown",
      "metadata": {
        "id": "b5848b91"
      },
      "source": [
        "# TEST THE MODEL"
      ],
      "id": "b5848b91"
    },
    {
      "cell_type": "code",
      "execution_count": null,
      "metadata": {
        "id": "d4057da4"
      },
      "outputs": [],
      "source": [
        "import numpy as np\n",
        "from tensorflow.keras.models import load_model\n",
        "from tensorflow.keras.preprocessing import image"
      ],
      "id": "d4057da4"
    },
    {
      "cell_type": "code",
      "execution_count": null,
      "metadata": {
        "id": "61f654e9"
      },
      "outputs": [],
      "source": [
        "# Load the model\n",
        "model=load_model('Flowers_classification_model1.h5')"
      ],
      "id": "61f654e9"
    },
    {
      "cell_type": "code",
      "execution_count": null,
      "metadata": {
        "id": "d4579b55"
      },
      "outputs": [],
      "source": [
        "img=image.load_img('/content/gdrive/MyDrive/data/rose.jpg',target_size=(64,64))"
      ],
      "id": "d4579b55"
    },
    {
      "cell_type": "code",
      "execution_count": null,
      "metadata": {
        "id": "840bc5b5",
        "outputId": "c54aa411-dbbf-49ec-c9fd-a43cd26fd27a",
        "colab": {
          "base_uri": "https://localhost:8080/",
          "height": 81
        }
      },
      "outputs": [
        {
          "output_type": "execute_result",
          "data": {
            "text/plain": [
              "<PIL.Image.Image image mode=RGB size=64x64 at 0x7FCB34EA81D0>"
            ],
            "image/png": "[encoded data removed]"
          },
          "metadata": {},
          "execution_count": 80
        }
      ],
      "source": [
        "img"
      ],
      "id": "840bc5b5"
    },
    {
      "cell_type": "code",
      "execution_count": null,
      "metadata": {
        "id": "448781ac",
        "outputId": "f4f378ca-6038-417d-9251-97fc7acf90f1",
        "colab": {
          "base_uri": "https://localhost:8080/",
          "height": 53
        }
      },
      "outputs": [
        {
          "output_type": "stream",
          "name": "stdout",
          "text": [
            "1/1 [==============================] - 0s 119ms/step\n"
          ]
        },
        {
          "output_type": "execute_result",
          "data": {
            "text/plain": [
              "'daisy'"
            ],
            "application/vnd.google.colaboratory.intrinsic+json": {
              "type": "string"
            }
          },
          "metadata": {},
          "execution_count": 81
        }
      ],
      "source": [
        "x=image.img_to_array(img)\n",
        "x=np.expand_dims(x,axis=0)\n",
        "y=np.argmax(model.predict(x),axis=1)\n",
        "# x_train.class_indices\n",
        "index=['daisy','dandelion','rose','sunflower','tulip']\n",
        "index[y[0]]"
      ],
      "id": "448781ac"
    }
  ],
  "metadata": {
    "colab": {
      "provenance": [],
      "collapsed_sections": []
    },
    "kernelspec": {
      "display_name": "Python 3 (ipykernel)",
      "language": "python",
      "name": "python3"
    },
    "language_info": {
      "codemirror_mode": {
        "name": "ipython",
        "version": 3
      },
      "file_extension": ".py",
      "mimetype": "text/x-python",
      "name": "python",
      "nbconvert_exporter": "python",
      "pygments_lexer": "ipython3",
      "version": "3.10.8"
    }
  },
  "nbformat": 4,
  "nbformat_minor": 5
}